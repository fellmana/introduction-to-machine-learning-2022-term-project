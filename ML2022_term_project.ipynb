{
 "cells": [
  {
   "cell_type": "markdown",
   "id": "9e24ea7a",
   "metadata": {},
   "source": [
    "# Introduction to machine learning 2022 term project"
   ]
  },
  {
   "cell_type": "code",
   "execution_count": 1,
   "id": "5fd572df",
   "metadata": {},
   "outputs": [],
   "source": [
    "# imports\n",
    "import pandas as pd\n",
    "import numpy as np\n",
    "\n",
    "# sklearn models\n",
    "from sklearn.model_selection import cross_validate,cross_val_score, train_test_split\n",
    "from sklearn.dummy import DummyClassifier\n",
    "from sklearn.neighbors import KNeighborsClassifier\n",
    "from sklearn.linear_model import LogisticRegression,BayesianRidge\n",
    "from sklearn.naive_bayes import GaussianNB\n",
    "from sklearn.pipeline import Pipeline\n",
    "from sklearn.tree import DecisionTreeClassifier\n",
    "from sklearn.gaussian_process import GaussianProcessClassifier\n",
    "from sklearn.gaussian_process.kernels import RBF\n",
    "from sklearn.discriminant_analysis import QuadraticDiscriminantAnalysis\n",
    "from sklearn.svm import SVC, LinearSVC\n",
    "from sklearn.ensemble import RandomForestClassifier,AdaBoostClassifier\n",
    "\n",
    "\n",
    "#Feature selection imports\n",
    "from sklearn.feature_selection import SelectFromModel\n",
    "from sklearn.feature_selection import SelectKBest, f_classif"
   ]
  },
  {
   "cell_type": "code",
   "execution_count": 2,
   "id": "0160b65d",
   "metadata": {},
   "outputs": [],
   "source": [
    "npf = pd.read_csv(\"npf_train.csv\")\n",
    "test = pd.read_csv(\"npf_test_hidden.csv\")"
   ]
  },
  {
   "cell_type": "markdown",
   "id": "a91442c3",
   "metadata": {},
   "source": [
    "### Data preprocessing\n",
    "\n",
    "Column \"class2\" added that is \"event\" if \"class4\" is Ib, Ia or II, otherwise labeled as \"nonevent\". "
   ]
  },
  {
   "cell_type": "code",
   "execution_count": 3,
   "id": "998cedd6",
   "metadata": {},
   "outputs": [],
   "source": [
    "class2 = np.array([\"nonevent\", \"event\"])\n",
    "npf[\"class2\"] = class2[(npf[\"class4\"]!=\"nonevent\").astype(int)]\n"
   ]
  },
  {
   "cell_type": "code",
   "execution_count": 4,
   "id": "5bed699a",
   "metadata": {
    "scrolled": false
   },
   "outputs": [
    {
     "name": "stdout",
     "output_type": "stream",
     "text": [
      "Train size: 310 Test size: 154\n"
     ]
    }
   ],
   "source": [
    "npf.head(n=2)\n",
    "train, test = train_test_split(npf,test_size=0.33, random_state=42)\n",
    "print(\"Train size:\", len(train),\"Test size:\", len(test))"
   ]
  },
  {
   "cell_type": "code",
   "execution_count": 5,
   "id": "b327b8b9",
   "metadata": {},
   "outputs": [],
   "source": [
    "#X = npf[labels]\n",
    "X = train.filter(regex=\".mean\")\n",
    "y = train[\"class2\"]\n",
    "X_test = test.filter(regex=\".mean\")\n",
    "y_test = test[\"class2\"]"
   ]
  },
  {
   "cell_type": "code",
   "execution_count": 6,
   "id": "41ed42b0",
   "metadata": {},
   "outputs": [],
   "source": [
    "Classifier_Names = [\"dummyRegressor\",\n",
    "                    \"logisticRegressor\",\n",
    "                    \"GaussianNaiveBays\",\n",
    "                    \"SVC\",\n",
    "                    \"SVC-sigmoid\",\n",
    "                    \"SVC-poly\",\n",
    "                    \"RandomForest\",\n",
    "                    \"AdaBoost\",\n",
    "                    \"NearestNeighbour\",\n",
    "                    \"GaussianProcess\",\n",
    "                    \"QDA\",\n",
    "                    \"DecisionTree\"]\n",
    "\n",
    "\n",
    "classifiers = [DummyClassifier(),\n",
    "          LogisticRegression(solver=\"saga\"),\n",
    "          GaussianNB(),\n",
    "          SVC(probability=True),\n",
    "          SVC(kernel=\"sigmoid\",probability=True),\n",
    "          SVC(kernel=\"poly\",probability=True),\n",
    "          RandomForestClassifier(),\n",
    "          AdaBoostClassifier(),\n",
    "          KNeighborsClassifier(3),\n",
    "          GaussianProcessClassifier(1.0 * RBF(1.0)),\n",
    "          QuadraticDiscriminantAnalysis(),\n",
    "          DecisionTreeClassifier(max_depth=5)\n",
    "          ]\n",
    "models = [Pipeline([(\"feature_selection\",SelectKBest(f_classif, k = 10)),(\"classifier\",c)]) for c in classifiers]\n",
    "res = pd.DataFrame(index=Classifier_Names)"
   ]
  },
  {
   "cell_type": "code",
   "execution_count": 7,
   "id": "7b93301f",
   "metadata": {},
   "outputs": [],
   "source": [
    "perplexity = lambda p: np.exp(-np.mean(np.log((test[\"class2\"]!=\"nonevent\").astype(int)*p + (1 - (test[\"class2\"]!=\"nonevent\").astype(int)) * (1 - p))))"
   ]
  },
  {
   "cell_type": "code",
   "execution_count": 8,
   "id": "dd20438e",
   "metadata": {},
   "outputs": [
    {
     "name": "stderr",
     "output_type": "stream",
     "text": [
      "/usr/lib/python3/dist-packages/sklearn/dummy.py:131: FutureWarning: The default value of strategy will change from stratified to prior in 0.24.\n",
      "  warnings.warn(\"The default value of strategy will change from \"\n",
      "/usr/lib/python3/dist-packages/sklearn/linear_model/_sag.py:329: ConvergenceWarning: The max_iter was reached which means the coef_ did not converge\n",
      "  warnings.warn(\"The max_iter was reached which means \"\n",
      "/usr/lib/python3/dist-packages/sklearn/dummy.py:131: FutureWarning: The default value of strategy will change from stratified to prior in 0.24.\n",
      "  warnings.warn(\"The default value of strategy will change from \"\n",
      "/usr/lib/python3/dist-packages/sklearn/dummy.py:131: FutureWarning: The default value of strategy will change from stratified to prior in 0.24.\n",
      "  warnings.warn(\"The default value of strategy will change from \"\n",
      "/usr/lib/python3/dist-packages/sklearn/dummy.py:131: FutureWarning: The default value of strategy will change from stratified to prior in 0.24.\n",
      "  warnings.warn(\"The default value of strategy will change from \"\n",
      "/usr/lib/python3/dist-packages/sklearn/dummy.py:131: FutureWarning: The default value of strategy will change from stratified to prior in 0.24.\n",
      "  warnings.warn(\"The default value of strategy will change from \"\n",
      "/usr/lib/python3/dist-packages/sklearn/dummy.py:131: FutureWarning: The default value of strategy will change from stratified to prior in 0.24.\n",
      "  warnings.warn(\"The default value of strategy will change from \"\n",
      "/usr/lib/python3/dist-packages/sklearn/dummy.py:131: FutureWarning: The default value of strategy will change from stratified to prior in 0.24.\n",
      "  warnings.warn(\"The default value of strategy will change from \"\n",
      "/usr/lib/python3/dist-packages/sklearn/dummy.py:131: FutureWarning: The default value of strategy will change from stratified to prior in 0.24.\n",
      "  warnings.warn(\"The default value of strategy will change from \"\n",
      "/usr/lib/python3/dist-packages/sklearn/dummy.py:131: FutureWarning: The default value of strategy will change from stratified to prior in 0.24.\n",
      "  warnings.warn(\"The default value of strategy will change from \"\n",
      "/usr/lib/python3/dist-packages/sklearn/dummy.py:131: FutureWarning: The default value of strategy will change from stratified to prior in 0.24.\n",
      "  warnings.warn(\"The default value of strategy will change from \"\n",
      "/usr/lib/python3/dist-packages/sklearn/dummy.py:131: FutureWarning: The default value of strategy will change from stratified to prior in 0.24.\n",
      "  warnings.warn(\"The default value of strategy will change from \"\n",
      "/usr/lib/python3/dist-packages/sklearn/linear_model/_sag.py:329: ConvergenceWarning: The max_iter was reached which means the coef_ did not converge\n",
      "  warnings.warn(\"The max_iter was reached which means \"\n",
      "/usr/lib/python3/dist-packages/sklearn/linear_model/_sag.py:329: ConvergenceWarning: The max_iter was reached which means the coef_ did not converge\n",
      "  warnings.warn(\"The max_iter was reached which means \"\n",
      "/usr/lib/python3/dist-packages/sklearn/linear_model/_sag.py:329: ConvergenceWarning: The max_iter was reached which means the coef_ did not converge\n",
      "  warnings.warn(\"The max_iter was reached which means \"\n",
      "/usr/lib/python3/dist-packages/sklearn/linear_model/_sag.py:329: ConvergenceWarning: The max_iter was reached which means the coef_ did not converge\n",
      "  warnings.warn(\"The max_iter was reached which means \"\n",
      "/usr/lib/python3/dist-packages/sklearn/linear_model/_sag.py:329: ConvergenceWarning: The max_iter was reached which means the coef_ did not converge\n",
      "  warnings.warn(\"The max_iter was reached which means \"\n",
      "/usr/lib/python3/dist-packages/sklearn/linear_model/_sag.py:329: ConvergenceWarning: The max_iter was reached which means the coef_ did not converge\n",
      "  warnings.warn(\"The max_iter was reached which means \"\n",
      "/usr/lib/python3/dist-packages/sklearn/linear_model/_sag.py:329: ConvergenceWarning: The max_iter was reached which means the coef_ did not converge\n",
      "  warnings.warn(\"The max_iter was reached which means \"\n",
      "/usr/lib/python3/dist-packages/sklearn/linear_model/_sag.py:329: ConvergenceWarning: The max_iter was reached which means the coef_ did not converge\n",
      "  warnings.warn(\"The max_iter was reached which means \"\n",
      "/usr/lib/python3/dist-packages/sklearn/linear_model/_sag.py:329: ConvergenceWarning: The max_iter was reached which means the coef_ did not converge\n",
      "  warnings.warn(\"The max_iter was reached which means \"\n",
      "/usr/lib/python3/dist-packages/sklearn/linear_model/_sag.py:329: ConvergenceWarning: The max_iter was reached which means the coef_ did not converge\n",
      "  warnings.warn(\"The max_iter was reached which means \"\n",
      "/usr/lib/python3/dist-packages/sklearn/dummy.py:131: FutureWarning: The default value of strategy will change from stratified to prior in 0.24.\n",
      "  warnings.warn(\"The default value of strategy will change from \"\n",
      "/usr/lib/python3/dist-packages/sklearn/linear_model/_sag.py:329: ConvergenceWarning: The max_iter was reached which means the coef_ did not converge\n",
      "  warnings.warn(\"The max_iter was reached which means \"\n",
      "/usr/lib/python3/dist-packages/sklearn/dummy.py:131: FutureWarning: The default value of strategy will change from stratified to prior in 0.24.\n",
      "  warnings.warn(\"The default value of strategy will change from \"\n",
      "/usr/lib/python3/dist-packages/pandas/core/arraylike.py:364: RuntimeWarning: divide by zero encountered in log\n",
      "  result = getattr(ufunc, method)(*inputs, **kwargs)\n",
      "/usr/lib/python3/dist-packages/sklearn/linear_model/_sag.py:329: ConvergenceWarning: The max_iter was reached which means the coef_ did not converge\n",
      "  warnings.warn(\"The max_iter was reached which means \"\n",
      "/usr/lib/python3/dist-packages/pandas/core/arraylike.py:364: RuntimeWarning: divide by zero encountered in log\n",
      "  result = getattr(ufunc, method)(*inputs, **kwargs)\n",
      "/usr/lib/python3/dist-packages/pandas/core/arraylike.py:364: RuntimeWarning: divide by zero encountered in log\n",
      "  result = getattr(ufunc, method)(*inputs, **kwargs)\n",
      "/usr/lib/python3/dist-packages/pandas/core/arraylike.py:364: RuntimeWarning: divide by zero encountered in log\n",
      "  result = getattr(ufunc, method)(*inputs, **kwargs)\n"
     ]
    }
   ],
   "source": [
    "res[\"train\"] = [m.fit(X,y).score(X,y) for m in models]\n",
    "res[\"cv\"] = [cross_val_score(m, X, y, cv=10).mean() for m in models]\n",
    "res[\"test\"] = [m.fit(X,y).score(X_test,y_test) for m in models]\n",
    "res[\"perplexity\"] = [perplexity(m.fit(X,y).predict_proba(X_test)[:,1]) for m in models]"
   ]
  },
  {
   "cell_type": "code",
   "execution_count": 9,
   "id": "ed882c49",
   "metadata": {},
   "outputs": [
    {
     "data": {
      "text/html": [
       "<div>\n",
       "<style scoped>\n",
       "    .dataframe tbody tr th:only-of-type {\n",
       "        vertical-align: middle;\n",
       "    }\n",
       "\n",
       "    .dataframe tbody tr th {\n",
       "        vertical-align: top;\n",
       "    }\n",
       "\n",
       "    .dataframe thead th {\n",
       "        text-align: right;\n",
       "    }\n",
       "</style>\n",
       "<table border=\"1\" class=\"dataframe\">\n",
       "  <thead>\n",
       "    <tr style=\"text-align: right;\">\n",
       "      <th></th>\n",
       "      <th>train</th>\n",
       "      <th>cv</th>\n",
       "      <th>test</th>\n",
       "      <th>perplexity</th>\n",
       "    </tr>\n",
       "  </thead>\n",
       "  <tbody>\n",
       "    <tr>\n",
       "      <th>dummyRegressor</th>\n",
       "      <td>0.516129</td>\n",
       "      <td>0.474194</td>\n",
       "      <td>0.506494</td>\n",
       "      <td>inf</td>\n",
       "    </tr>\n",
       "    <tr>\n",
       "      <th>logisticRegressor</th>\n",
       "      <td>0.761290</td>\n",
       "      <td>0.758065</td>\n",
       "      <td>0.798701</td>\n",
       "      <td>4.834991e+00</td>\n",
       "    </tr>\n",
       "    <tr>\n",
       "      <th>GaussianNaiveBays</th>\n",
       "      <td>0.787097</td>\n",
       "      <td>0.783871</td>\n",
       "      <td>0.792208</td>\n",
       "      <td>1.156793e+06</td>\n",
       "    </tr>\n",
       "    <tr>\n",
       "      <th>SVC</th>\n",
       "      <td>0.767742</td>\n",
       "      <td>0.764516</td>\n",
       "      <td>0.779221</td>\n",
       "      <td>3.932640e+00</td>\n",
       "    </tr>\n",
       "    <tr>\n",
       "      <th>SVC-sigmoid</th>\n",
       "      <td>0.732258</td>\n",
       "      <td>0.622581</td>\n",
       "      <td>0.779221</td>\n",
       "      <td>3.644898e+00</td>\n",
       "    </tr>\n",
       "    <tr>\n",
       "      <th>SVC-poly</th>\n",
       "      <td>0.751613</td>\n",
       "      <td>0.745161</td>\n",
       "      <td>0.785714</td>\n",
       "      <td>3.926238e+00</td>\n",
       "    </tr>\n",
       "    <tr>\n",
       "      <th>RandomForest</th>\n",
       "      <td>1.000000</td>\n",
       "      <td>0.787097</td>\n",
       "      <td>0.818182</td>\n",
       "      <td>inf</td>\n",
       "    </tr>\n",
       "    <tr>\n",
       "      <th>AdaBoost</th>\n",
       "      <td>0.929032</td>\n",
       "      <td>0.777419</td>\n",
       "      <td>0.824675</td>\n",
       "      <td>2.229494e+00</td>\n",
       "    </tr>\n",
       "    <tr>\n",
       "      <th>NearestNeighbour</th>\n",
       "      <td>0.874194</td>\n",
       "      <td>0.777419</td>\n",
       "      <td>0.759740</td>\n",
       "      <td>inf</td>\n",
       "    </tr>\n",
       "    <tr>\n",
       "      <th>GaussianProcess</th>\n",
       "      <td>0.838710</td>\n",
       "      <td>0.787097</td>\n",
       "      <td>0.857143</td>\n",
       "      <td>6.741112e+00</td>\n",
       "    </tr>\n",
       "    <tr>\n",
       "      <th>QDA</th>\n",
       "      <td>0.848387</td>\n",
       "      <td>0.783871</td>\n",
       "      <td>0.779221</td>\n",
       "      <td>1.555342e+02</td>\n",
       "    </tr>\n",
       "    <tr>\n",
       "      <th>DecisionTree</th>\n",
       "      <td>0.916129</td>\n",
       "      <td>0.745161</td>\n",
       "      <td>0.772727</td>\n",
       "      <td>inf</td>\n",
       "    </tr>\n",
       "  </tbody>\n",
       "</table>\n",
       "</div>"
      ],
      "text/plain": [
       "                      train        cv      test    perplexity\n",
       "dummyRegressor     0.516129  0.474194  0.506494           inf\n",
       "logisticRegressor  0.761290  0.758065  0.798701  4.834991e+00\n",
       "GaussianNaiveBays  0.787097  0.783871  0.792208  1.156793e+06\n",
       "SVC                0.767742  0.764516  0.779221  3.932640e+00\n",
       "SVC-sigmoid        0.732258  0.622581  0.779221  3.644898e+00\n",
       "SVC-poly           0.751613  0.745161  0.785714  3.926238e+00\n",
       "RandomForest       1.000000  0.787097  0.818182           inf\n",
       "AdaBoost           0.929032  0.777419  0.824675  2.229494e+00\n",
       "NearestNeighbour   0.874194  0.777419  0.759740           inf\n",
       "GaussianProcess    0.838710  0.787097  0.857143  6.741112e+00\n",
       "QDA                0.848387  0.783871  0.779221  1.555342e+02\n",
       "DecisionTree       0.916129  0.745161  0.772727           inf"
      ]
     },
     "execution_count": 9,
     "metadata": {},
     "output_type": "execute_result"
    }
   ],
   "source": [
    "res"
   ]
  }
 ],
 "metadata": {
  "kernelspec": {
   "display_name": "Python 3 (ipykernel)",
   "language": "python",
   "name": "python3"
  },
  "language_info": {
   "codemirror_mode": {
    "name": "ipython",
    "version": 3
   },
   "file_extension": ".py",
   "mimetype": "text/x-python",
   "name": "python",
   "nbconvert_exporter": "python",
   "pygments_lexer": "ipython3",
   "version": "3.10.6"
  }
 },
 "nbformat": 4,
 "nbformat_minor": 5
}
