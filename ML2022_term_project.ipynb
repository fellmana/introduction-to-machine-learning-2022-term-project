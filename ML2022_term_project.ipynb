{
 "cells": [
  {
   "cell_type": "markdown",
   "id": "9e24ea7a",
   "metadata": {},
   "source": [
    "# Introduction to machine learning 2022 term project"
   ]
  },
  {
   "cell_type": "code",
   "execution_count": 1,
   "id": "5fd572df",
   "metadata": {},
   "outputs": [],
   "source": [
    "# general imports\n",
    "import pandas as pd\n",
    "import numpy as np\n",
    "import matplotlib.pyplot as plt\n",
    "\n",
    "# sklearn models\n",
    "from sklearn.model_selection import cross_validate,cross_val_score, train_test_split\n",
    "from sklearn.dummy import DummyClassifier\n",
    "from sklearn.neighbors import KNeighborsClassifier\n",
    "from sklearn.linear_model import LogisticRegression,BayesianRidge\n",
    "from sklearn.naive_bayes import GaussianNB\n",
    "from sklearn.pipeline import Pipeline\n",
    "from sklearn.tree import DecisionTreeClassifier\n",
    "from sklearn.gaussian_process import GaussianProcessClassifier\n",
    "from sklearn.gaussian_process.kernels import RBF\n",
    "from sklearn.discriminant_analysis import QuadraticDiscriminantAnalysis\n",
    "from sklearn.svm import SVC, LinearSVC\n",
    "from sklearn.ensemble import RandomForestClassifier,AdaBoostClassifier\n",
    "\n",
    "\n",
    "#Feature selection imports\n",
    "from sklearn.feature_selection import SelectFromModel\n",
    "from sklearn.feature_selection import SelectKBest, f_classif\n",
    "from sklearn import preprocessing"
   ]
  },
  {
   "cell_type": "code",
   "execution_count": 2,
   "id": "0160b65d",
   "metadata": {},
   "outputs": [],
   "source": [
    "npf = pd.read_csv(\"npf_train.csv\")\n",
    "hidden_test = pd.read_csv(\"npf_test_hidden.csv\")"
   ]
  },
  {
   "cell_type": "markdown",
   "id": "a91442c3",
   "metadata": {},
   "source": [
    "## Data preprocessing\n",
    "\n",
    "Column \"class2\" added that is \"event\" if \"class4\" is Ib, Ia or II, otherwise labeled as \"nonevent\". "
   ]
  },
  {
   "cell_type": "code",
   "execution_count": 3,
   "id": "998cedd6",
   "metadata": {},
   "outputs": [],
   "source": [
    "class2 = np.array([\"nonevent\", \"event\"])\n",
    "npf[\"class2\"] = class2[(npf[\"class4\"]!=\"nonevent\").astype(int)]\n"
   ]
  },
  {
   "cell_type": "markdown",
   "id": "506c2b45",
   "metadata": {},
   "source": [
    "## PCA \n",
    "PCA was performed inorder to help with the selection of component and for visualization of data."
   ]
  },
  {
   "cell_type": "code",
   "execution_count": 4,
   "id": "5084f584",
   "metadata": {},
   "outputs": [],
   "source": [
    "npf_filtered = npf.filter(regex=\".mean|.std\")\n",
    "scaled = preprocessing.scale(npf_filtered)\n",
    "\n",
    "hidden_test_filtered = hidden_test.filter(regex=\".mean|.std\")\n",
    "scaled_hidden_test = preprocessing.scale(hidden_test_filtered)"
   ]
  },
  {
   "cell_type": "code",
   "execution_count": 5,
   "id": "d5b3ab04",
   "metadata": {},
   "outputs": [
    {
     "data": {
      "image/png": "[encoded data removed]",
      "text/plain": [
       "<Figure size 432x288 with 1 Axes>"
      ]
     },
     "metadata": {
      "needs_background": "light"
     },
     "output_type": "display_data"
    }
   ],
   "source": [
    "from sklearn.decomposition import PCA\n",
    "pca = PCA(n_components=2)\n",
    "pca.fit(scaled)\n",
    "X = pca.transform(scaled)\n",
    "class_to_color = {\"nonevent\":\"k\",\"Ia\":\"r\",\"Ib\":\"g\",\"II\":\"b\"}\n",
    "\n",
    "for k in class_to_color.keys():\n",
    "    mask = npf[\"class4\"] == k\n",
    "    plt.scatter(X[mask,0],X[mask,1],c=class_to_color[k],label=k)\n",
    "plt.legend()\n",
    "plt.show()"
   ]
  },
  {
   "cell_type": "code",
   "execution_count": 6,
   "id": "468a3bf2",
   "metadata": {},
   "outputs": [
    {
     "data": {
      "image/png": "[encoded data removed]",
      "text/plain": [
       "<Figure size 720x360 with 1 Axes>"
      ]
     },
     "metadata": {
      "needs_background": "light"
     },
     "output_type": "display_data"
    }
   ],
   "source": [
    "plt.rcParams[\"figure.figsize\"] = (10,5)\n",
    "pca = PCA()\n",
    "pca.fit(scaled)\n",
    "pca_data = pca.transform(scaled)\n",
    "exp_var_pca = pca.explained_variance_ratio_\n",
    "cum_sum_eigenvalues = np.cumsum(exp_var_pca)\n",
    "plt.bar(range(0,len(exp_var_pca)), exp_var_pca,label='explained variance')\n",
    "plt.step(range(0,len(cum_sum_eigenvalues)), cum_sum_eigenvalues, where='mid',label='Cumulative variance explained')\n",
    "plt.ylabel('Explained variance')\n",
    "plt.xlabel('Principal components')\n",
    "plt.legend(loc='best')\n",
    "plt.show()"
   ]
  },
  {
   "cell_type": "markdown",
   "id": "a4b49f10",
   "metadata": {},
   "source": [
    "## Feature selection and test/train splitting "
   ]
  },
  {
   "cell_type": "code",
   "execution_count": 27,
   "id": "5bed699a",
   "metadata": {
    "scrolled": false
   },
   "outputs": [
    {
     "name": "stdout",
     "output_type": "stream",
     "text": [
      "Train size: 310 Test size: 154\n"
     ]
    }
   ],
   "source": [
    "number_pca_components = 10\n",
    "pca_df = pd.DataFrame(pca_data[:,:number_pca_components],\n",
    "                      columns = [\"pc\" + str(i) for i in range(0,number_pca_components)])\n",
    "pca_df[\"class2\"] = npf[\"class2\"]\n",
    "pca_df[\"class4\"] = npf[\"class4\"]\n",
    "train, test = train_test_split(pca_df,test_size=0.33, random_state=42)\n",
    "print(\"Train size:\", len(train),\"Test size:\", len(test))"
   ]
  },
  {
   "cell_type": "code",
   "execution_count": 12,
   "id": "b327b8b9",
   "metadata": {},
   "outputs": [],
   "source": [
    "X = train.filter(regex=\"pc\")\n",
    "#X = train.filter(regex=\".mean\")\n",
    "y = train[\"class2\"]\n",
    "X_test = test.filter(regex=\"pc\")\n",
    "y_test = test[\"class2\"]"
   ]
  },
  {
   "cell_type": "markdown",
   "id": "b86703e7",
   "metadata": {},
   "source": [
    "## Benchmarking\n",
    "At this point several different classifiers were tested inorder to get an idea of their relative performance."
   ]
  },
  {
   "cell_type": "code",
   "execution_count": 13,
   "id": "41ed42b0",
   "metadata": {},
   "outputs": [],
   "source": [
    "Classifier_Names = [\"dummyRegressor\",\n",
    "                    \"logisticRegressor\",\n",
    "                    \"GaussianNaiveBays\",\n",
    "                    \"SVC\",\n",
    "                    \"SVC-sigmoid\",\n",
    "                    \"SVC-poly\",\n",
    "                    \"RandomForest\",\n",
    "                    \"AdaBoost\",\n",
    "                    \"NearestNeighbour\",\n",
    "                    \"GaussianProcess\",\n",
    "                    \"QDA\",\n",
    "                    \"DecisionTree\"]\n",
    "\n",
    "\n",
    "models = [DummyClassifier(strategy=\"prior\"),\n",
    "          LogisticRegression(penalty=\"l1\",solver=\"liblinear\"),\n",
    "          GaussianNB(),\n",
    "          SVC(probability=True),\n",
    "          SVC(kernel=\"sigmoid\",probability=True),\n",
    "          SVC(kernel=\"poly\",probability=True),\n",
    "          RandomForestClassifier(),\n",
    "          AdaBoostClassifier(),\n",
    "          KNeighborsClassifier(3),\n",
    "          GaussianProcessClassifier(1.0 * RBF(1.0)),\n",
    "          QuadraticDiscriminantAnalysis(),\n",
    "          DecisionTreeClassifier(max_depth=5)\n",
    "          ]\n",
    "res = pd.DataFrame(index=Classifier_Names)"
   ]
  },
  {
   "cell_type": "code",
   "execution_count": 14,
   "id": "7b93301f",
   "metadata": {},
   "outputs": [],
   "source": [
    "#perplexity = lambda p: np.exp(-np.mean(np.log((test[\"class2\"]!=\"nonevent\").astype(int)*p + (1 - (test[\"class2\"]!=\"nonevent\").astype(int)) * (1 - p))))\n",
    "#perplexity = lambda p: "
   ]
  },
  {
   "cell_type": "code",
   "execution_count": 15,
   "id": "dd20438e",
   "metadata": {},
   "outputs": [],
   "source": [
    "res[\"train\"] = [m.fit(X,y).score(X,y) for m in models]\n",
    "res[\"cv\"] = [cross_val_score(m, X, y, cv=10).mean() for m in models]\n",
    "res[\"test\"] = [m.fit(X,y).score(X_test,y_test) for m in models]\n",
    "#res[\"perplexity\"] = [perplexity(m.fit(X,y).predict_proba(X_test)[:,1]) for m in models]"
   ]
  },
  {
   "cell_type": "code",
   "execution_count": 16,
   "id": "ed882c49",
   "metadata": {},
   "outputs": [
    {
     "data": {
      "text/html": [
       "<div>\n",
       "<style scoped>\n",
       "    .dataframe tbody tr th:only-of-type {\n",
       "        vertical-align: middle;\n",
       "    }\n",
       "\n",
       "    .dataframe tbody tr th {\n",
       "        vertical-align: top;\n",
       "    }\n",
       "\n",
       "    .dataframe thead th {\n",
       "        text-align: right;\n",
       "    }\n",
       "</style>\n",
       "<table border=\"1\" class=\"dataframe\">\n",
       "  <thead>\n",
       "    <tr style=\"text-align: right;\">\n",
       "      <th></th>\n",
       "      <th>train</th>\n",
       "      <th>cv</th>\n",
       "      <th>test</th>\n",
       "    </tr>\n",
       "  </thead>\n",
       "  <tbody>\n",
       "    <tr>\n",
       "      <th>dummyRegressor</th>\n",
       "      <td>0.522581</td>\n",
       "      <td>0.522581</td>\n",
       "      <td>0.454545</td>\n",
       "    </tr>\n",
       "    <tr>\n",
       "      <th>logisticRegressor</th>\n",
       "      <td>0.864516</td>\n",
       "      <td>0.854839</td>\n",
       "      <td>0.876623</td>\n",
       "    </tr>\n",
       "    <tr>\n",
       "      <th>GaussianNaiveBays</th>\n",
       "      <td>0.819355</td>\n",
       "      <td>0.803226</td>\n",
       "      <td>0.811688</td>\n",
       "    </tr>\n",
       "    <tr>\n",
       "      <th>SVC</th>\n",
       "      <td>0.893548</td>\n",
       "      <td>0.870968</td>\n",
       "      <td>0.857143</td>\n",
       "    </tr>\n",
       "    <tr>\n",
       "      <th>SVC-sigmoid</th>\n",
       "      <td>0.777419</td>\n",
       "      <td>0.793548</td>\n",
       "      <td>0.824675</td>\n",
       "    </tr>\n",
       "    <tr>\n",
       "      <th>SVC-poly</th>\n",
       "      <td>0.854839</td>\n",
       "      <td>0.825806</td>\n",
       "      <td>0.818182</td>\n",
       "    </tr>\n",
       "    <tr>\n",
       "      <th>RandomForest</th>\n",
       "      <td>1.000000</td>\n",
       "      <td>0.864516</td>\n",
       "      <td>0.876623</td>\n",
       "    </tr>\n",
       "    <tr>\n",
       "      <th>AdaBoost</th>\n",
       "      <td>0.980645</td>\n",
       "      <td>0.841935</td>\n",
       "      <td>0.857143</td>\n",
       "    </tr>\n",
       "    <tr>\n",
       "      <th>NearestNeighbour</th>\n",
       "      <td>0.916129</td>\n",
       "      <td>0.851613</td>\n",
       "      <td>0.876623</td>\n",
       "    </tr>\n",
       "    <tr>\n",
       "      <th>GaussianProcess</th>\n",
       "      <td>0.887097</td>\n",
       "      <td>0.851613</td>\n",
       "      <td>0.883117</td>\n",
       "    </tr>\n",
       "    <tr>\n",
       "      <th>QDA</th>\n",
       "      <td>0.848387</td>\n",
       "      <td>0.825806</td>\n",
       "      <td>0.863636</td>\n",
       "    </tr>\n",
       "    <tr>\n",
       "      <th>DecisionTree</th>\n",
       "      <td>0.951613</td>\n",
       "      <td>0.793548</td>\n",
       "      <td>0.837662</td>\n",
       "    </tr>\n",
       "  </tbody>\n",
       "</table>\n",
       "</div>"
      ],
      "text/plain": [
       "                      train        cv      test\n",
       "dummyRegressor     0.522581  0.522581  0.454545\n",
       "logisticRegressor  0.864516  0.854839  0.876623\n",
       "GaussianNaiveBays  0.819355  0.803226  0.811688\n",
       "SVC                0.893548  0.870968  0.857143\n",
       "SVC-sigmoid        0.777419  0.793548  0.824675\n",
       "SVC-poly           0.854839  0.825806  0.818182\n",
       "RandomForest       1.000000  0.864516  0.876623\n",
       "AdaBoost           0.980645  0.841935  0.857143\n",
       "NearestNeighbour   0.916129  0.851613  0.876623\n",
       "GaussianProcess    0.887097  0.851613  0.883117\n",
       "QDA                0.848387  0.825806  0.863636\n",
       "DecisionTree       0.951613  0.793548  0.837662"
      ]
     },
     "execution_count": 16,
     "metadata": {},
     "output_type": "execute_result"
    }
   ],
   "source": [
    "res"
   ]
  },
  {
   "cell_type": "markdown",
   "id": "3c21f536",
   "metadata": {},
   "source": [
    "## Choise of model\n",
    "At this point we chose the logistic regression as the model for the production version of the classifier as it performed well and is a model that has good explainability. "
   ]
  },
  {
   "cell_type": "code",
   "execution_count": 17,
   "id": "b0d67b3b",
   "metadata": {},
   "outputs": [
    {
     "data": {
      "text/plain": [
       "LogisticRegression(penalty='l1', solver='liblinear')"
      ]
     },
     "execution_count": 17,
     "metadata": {},
     "output_type": "execute_result"
    }
   ],
   "source": [
    "clf = LogisticRegression(penalty=\"l1\",solver=\"liblinear\")\n",
    "\n",
    "clf.fit(X,y)"
   ]
  },
  {
   "cell_type": "code",
   "execution_count": 18,
   "id": "90b73bcf",
   "metadata": {},
   "outputs": [
    {
     "data": {
      "text/html": [
       "<div>\n",
       "<style scoped>\n",
       "    .dataframe tbody tr th:only-of-type {\n",
       "        vertical-align: middle;\n",
       "    }\n",
       "\n",
       "    .dataframe tbody tr th {\n",
       "        vertical-align: top;\n",
       "    }\n",
       "\n",
       "    .dataframe thead th {\n",
       "        text-align: right;\n",
       "    }\n",
       "</style>\n",
       "<table border=\"1\" class=\"dataframe\">\n",
       "  <thead>\n",
       "    <tr style=\"text-align: right;\">\n",
       "      <th></th>\n",
       "      <th>train</th>\n",
       "      <th>test</th>\n",
       "      <th>perplexity</th>\n",
       "    </tr>\n",
       "  </thead>\n",
       "  <tbody>\n",
       "    <tr>\n",
       "      <th>logistic regression</th>\n",
       "      <td>0.864516</td>\n",
       "      <td>0.876623</td>\n",
       "      <td>NaN</td>\n",
       "    </tr>\n",
       "  </tbody>\n",
       "</table>\n",
       "</div>"
      ],
      "text/plain": [
       "                        train      test perplexity\n",
       "logistic regression  0.864516  0.876623        NaN"
      ]
     },
     "execution_count": 18,
     "metadata": {},
     "output_type": "execute_result"
    }
   ],
   "source": [
    "stats = pd.DataFrame(index=[\"logistic regression\"], columns=[\"train\",\"test\",\"perplexity\"])\n",
    "\n",
    "stats[\"train\"]      = clf.score(X,y)\n",
    "stats[\"test\"]       = clf.score(X_test,y_test)\n",
    "#stats[\"perplexity\"] = perplexity(clf.predict_proba(X_test)[:,1])\n",
    "stats"
   ]
  },
  {
   "cell_type": "markdown",
   "id": "8af589fd",
   "metadata": {},
   "source": [
    "## Production version and prediction of hidden test data "
   ]
  },
  {
   "cell_type": "code",
   "execution_count": 19,
   "id": "ed0b1a7b",
   "metadata": {},
   "outputs": [
    {
     "name": "stdout",
     "output_type": "stream",
     "text": [
      "Training score: 0.8728448275862069\n"
     ]
    }
   ],
   "source": [
    "X_prod = pca_df.filter(regex=\"pc\")\n",
    "y_prod = pca_df[\"class2\"]\n",
    "hidden_data = pca.transform(scaled_hidden_test)\n",
    "hidden_df   = pd.DataFrame(hidden_data[:,:number_pca_components],\n",
    "                      columns = [\"pc\" + str(i) for i in range(0,number_pca_components)])\n",
    "X_test = hidden_df.filter(regex=\"pc\")\n",
    "clf.fit(X_prod,y_prod)\n",
    "print(\"Training score:\",clf.score(X_prod,y_prod))"
   ]
  },
  {
   "cell_type": "code",
   "execution_count": 20,
   "id": "79f3f691",
   "metadata": {},
   "outputs": [],
   "source": [
    "hidden_test[\"class2\"] = clf.predict(X_test)\n",
    "hidden_test.to_csv(\"answers.csv\")"
   ]
  },
  {
   "cell_type": "code",
   "execution_count": 21,
   "id": "44ecfafe",
   "metadata": {},
   "outputs": [],
   "source": [
    "test_not_hidden = pd.read_csv(\"npf_test.csv\")\n",
    "test_not_hidden[\"class2\"] = class2[(test_not_hidden[\"class4\"]!=\"nonevent\").astype(int)]\n",
    "\n",
    "hidden_test_filtered = test_not_hidden.filter(regex=\".mean|.std\")\n",
    "scaled_test = preprocessing.scale(hidden_test_filtered)\n",
    "test_data = pca.transform(scaled_test)\n",
    "test_df   = pd.DataFrame(hidden_data[:,:number_pca_components],\n",
    "                      columns = [\"pc\" + str(i) for i in range(0,number_pca_components)])\n",
    "X_test_not_hidden = test_df.filter(regex=\"pc\")\n",
    "y_test_not_hidden = test_not_hidden[\"class2\"]"
   ]
  },
  {
   "cell_type": "code",
   "execution_count": 22,
   "id": "0783cdab",
   "metadata": {},
   "outputs": [
    {
     "data": {
      "text/plain": [
       "0.8435233160621761"
      ]
     },
     "execution_count": 22,
     "metadata": {},
     "output_type": "execute_result"
    }
   ],
   "source": [
    "clf.score(X_test_not_hidden,y_test_not_hidden)"
   ]
  },
  {
   "cell_type": "markdown",
   "id": "64dce1a5",
   "metadata": {},
   "source": [
    "## Multi-class classifier"
   ]
  },
  {
   "cell_type": "code",
   "execution_count": 30,
   "id": "d9024fa4",
   "metadata": {},
   "outputs": [],
   "source": [
    "train, test = train_test_split(pca_df,test_size=0.33, random_state=42)\n",
    "X = train.filter(regex=\"pc\")\n",
    "y = train[\"class4\"]\n",
    "X_test = test.filter(regex=\"pc\")\n",
    "y_test = test[\"class4\"]"
   ]
  },
  {
   "cell_type": "code",
   "execution_count": 31,
   "id": "2bb47377",
   "metadata": {},
   "outputs": [
    {
     "data": {
      "text/plain": [
       "LogisticRegression(penalty='l1', solver='liblinear')"
      ]
     },
     "execution_count": 31,
     "metadata": {},
     "output_type": "execute_result"
    }
   ],
   "source": [
    "clf.fit(X,y)"
   ]
  },
  {
   "cell_type": "code",
   "execution_count": 32,
   "id": "62f05625",
   "metadata": {},
   "outputs": [
    {
     "data": {
      "text/html": [
       "<div>\n",
       "<style scoped>\n",
       "    .dataframe tbody tr th:only-of-type {\n",
       "        vertical-align: middle;\n",
       "    }\n",
       "\n",
       "    .dataframe tbody tr th {\n",
       "        vertical-align: top;\n",
       "    }\n",
       "\n",
       "    .dataframe thead th {\n",
       "        text-align: right;\n",
       "    }\n",
       "</style>\n",
       "<table border=\"1\" class=\"dataframe\">\n",
       "  <thead>\n",
       "    <tr style=\"text-align: right;\">\n",
       "      <th></th>\n",
       "      <th>train</th>\n",
       "      <th>test</th>\n",
       "    </tr>\n",
       "  </thead>\n",
       "  <tbody>\n",
       "    <tr>\n",
       "      <th>logistic regression</th>\n",
       "      <td>0.677419</td>\n",
       "      <td>0.701299</td>\n",
       "    </tr>\n",
       "  </tbody>\n",
       "</table>\n",
       "</div>"
      ],
      "text/plain": [
       "                        train      test\n",
       "logistic regression  0.677419  0.701299"
      ]
     },
     "execution_count": 32,
     "metadata": {},
     "output_type": "execute_result"
    }
   ],
   "source": [
    "stats = pd.DataFrame(index=[\"logistic regression\"], columns=[\"train\",\"test\"])\n",
    "stats[\"train\"]      = clf.score(X,y)\n",
    "stats[\"test\"]       = clf.score(X_test,y_test)\n",
    "stats"
   ]
  },
  {
   "cell_type": "code",
   "execution_count": 35,
   "id": "e8e3abf5",
   "metadata": {},
   "outputs": [
    {
     "data": {
      "text/plain": [
       "0.6673575129533679"
      ]
     },
     "execution_count": 35,
     "metadata": {},
     "output_type": "execute_result"
    }
   ],
   "source": [
    "y_test_not_hidden = test_not_hidden[\"class4\"]\n",
    "clf.score(X_test_not_hidden,y_test_not_hidden)"
   ]
  },
  {
   "cell_type": "code",
   "execution_count": null,
   "id": "1eecf0bc",
   "metadata": {},
   "outputs": [],
   "source": []
  }
 ],
 "metadata": {
  "kernelspec": {
   "display_name": "Python 3 (ipykernel)",
   "language": "python",
   "name": "python3"
  },
  "language_info": {
   "codemirror_mode": {
    "name": "ipython",
    "version": 3
   },
   "file_extension": ".py",
   "mimetype": "text/x-python",
   "name": "python",
   "nbconvert_exporter": "python",
   "pygments_lexer": "ipython3",
   "version": "3.10.6"
  }
 },
 "nbformat": 4,
 "nbformat_minor": 5
}
