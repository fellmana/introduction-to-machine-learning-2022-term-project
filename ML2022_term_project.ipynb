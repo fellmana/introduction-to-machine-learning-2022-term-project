{
 "cells": [
  {
   "cell_type": "markdown",
   "id": "9e24ea7a",
   "metadata": {},
   "source": [
    "# Introduction to machine learning 2022 term project"
   ]
  },
  {
   "cell_type": "code",
   "execution_count": 1,
   "id": "5fd572df",
   "metadata": {},
   "outputs": [],
   "source": [
    "# general imports\n",
    "import pandas as pd\n",
    "import numpy as np\n",
    "\n",
    "# sklearn models\n",
    "from sklearn.model_selection import cross_validate,cross_val_score, train_test_split\n",
    "from sklearn.dummy import DummyClassifier\n",
    "from sklearn.neighbors import KNeighborsClassifier\n",
    "from sklearn.linear_model import LogisticRegression,BayesianRidge\n",
    "from sklearn.naive_bayes import GaussianNB\n",
    "from sklearn.pipeline import Pipeline\n",
    "from sklearn.tree import DecisionTreeClassifier\n",
    "from sklearn.gaussian_process import GaussianProcessClassifier\n",
    "from sklearn.gaussian_process.kernels import RBF\n",
    "from sklearn.discriminant_analysis import QuadraticDiscriminantAnalysis\n",
    "from sklearn.svm import SVC, LinearSVC\n",
    "from sklearn.ensemble import RandomForestClassifier,AdaBoostClassifier\n",
    "\n",
    "\n",
    "#Feature selection imports\n",
    "from sklearn.feature_selection import SelectFromModel\n",
    "from sklearn.feature_selection import SelectKBest, f_classif"
   ]
  },
  {
   "cell_type": "code",
   "execution_count": 2,
   "id": "0160b65d",
   "metadata": {},
   "outputs": [],
   "source": [
    "npf = pd.read_csv(\"npf_train.csv\")\n",
    "hidden_test = pd.read_csv(\"npf_test_hidden.csv\")"
   ]
  },
  {
   "cell_type": "markdown",
   "id": "a91442c3",
   "metadata": {},
   "source": [
    "## Data preprocessing\n",
    "\n",
    "Column \"class2\" added that is \"event\" if \"class4\" is Ib, Ia or II, otherwise labeled as \"nonevent\". "
   ]
  },
  {
   "cell_type": "code",
   "execution_count": 3,
   "id": "998cedd6",
   "metadata": {},
   "outputs": [],
   "source": [
    "class2 = np.array([\"nonevent\", \"event\"])\n",
    "npf[\"class2\"] = class2[(npf[\"class4\"]!=\"nonevent\").astype(int)]\n"
   ]
  },
  {
   "cell_type": "markdown",
   "id": "506c2b45",
   "metadata": {},
   "source": [
    "## PCA \n",
    "PCA was performed inorder to help with the selection of component and for visualization of data."
   ]
  },
  {
   "cell_type": "code",
   "execution_count": 4,
   "id": "d5b3ab04",
   "metadata": {},
   "outputs": [
    {
     "data": {
      "image/png": "[encoded data removed]",
      "text/plain": [
       "<Figure size 432x288 with 1 Axes>"
      ]
     },
     "metadata": {
      "needs_background": "light"
     },
     "output_type": "display_data"
    },
    {
     "data": {
      "image/png": "[encoded data removed]",
      "text/plain": [
       "<Figure size 432x288 with 1 Axes>"
      ]
     },
     "metadata": {
      "needs_background": "light"
     },
     "output_type": "display_data"
    }
   ],
   "source": [
    "# Visualiserar features, använder PCA för att välja mest passande komponenterna.\n",
    "\n",
    "from sklearn.decomposition import PCA\n",
    "from sklearn import preprocessing\n",
    "import matplotlib.pyplot as plt\n",
    "from sklearn import preprocessing\n",
    "\n",
    "npf_dropped = npf.drop([\"date\", \"class4\", \"class2\", \"partlybad\"], axis =1)\n",
    "scaled = preprocessing.scale(npf_dropped)\n",
    "\n",
    "pca = PCA()\n",
    "pca.fit(scaled)\n",
    "pca_data = pca.transform(scaled)\n",
    "\n",
    "# Räknar hur många procent varje component påverkar modellen.\n",
    "per_var = np.round(pca.explained_variance_ratio_*100, decimals = 1)\n",
    "#labels = [\"PC\" + str (x) for x in range(1, len(per_var)+1)]\n",
    "labels=npf_dropped.columns\n",
    "\n",
    "# Gör ett histogram som avslöjar vilka features är viktigast\n",
    "\n",
    "plt.bar(x=range(1, len(per_var)+1), height = per_var, tick_label = labels)\n",
    "plt.xlabel = \"Principal component\"\n",
    "plt.ylabel = \"Percentage of explanation variable\"\n",
    "plt.title = \"Importance of principal components (%)\"\n",
    "\n",
    "# Gör en biplot plot\n",
    "pca_df = pd.DataFrame(pca_data, columns = labels)\n",
    "\n",
    "# på \"score\" parametern välj de kolumner du vill jämföra, \"coeff\" ger riktningen för maximala varianserna i datan,\n",
    "# \"labels\" ger namnet på pca:n. Funkar dock enbart om man tar alla komponenter börjandes från första.\n",
    "def biplot(score, coeff, labels = None):\n",
    "    x_axis = score[:,0]\n",
    "    y_axis = score[:,1]\n",
    "    n = coeff.shape[0]\n",
    "    scalex = 1.0/(x_axis.max() - x_axis.min())\n",
    "    scaley = 1.0/(y_axis.max() - y_axis.min())\n",
    "    fig, ax = plt.subplots()\n",
    "    \n",
    "    ax.scatter(x_axis*scalex, y_axis*scaley)\n",
    "    \n",
    "    for i in range(n):\n",
    "        ax.arrow(0, 0, coeff[i,0], coeff[i,1], color = 'r', alpha = 0.5)\n",
    "        ax.text(coeff[i,0]*1.15, coeff[i,1]*1.15, labels[i], color = 'orange', ha = 'center', va = 'center')\n",
    "        ax.set_xlim(-1,1)\n",
    "        ax.set_ylim(-1,1)\n",
    "        ax.set_xlabel(\"PCA1\")\n",
    "        ax.set_ylabel(\"PCA2\")\n",
    "\n",
    "biplot(pca_data[:,0:10], pca.components_[0:10, :], labels = labels)"
   ]
  },
  {
   "cell_type": "markdown",
   "id": "a4b49f10",
   "metadata": {},
   "source": [
    "## Feature selection and test/train splitting "
   ]
  },
  {
   "cell_type": "code",
   "execution_count": 5,
   "id": "5bed699a",
   "metadata": {
    "scrolled": false
   },
   "outputs": [
    {
     "name": "stdout",
     "output_type": "stream",
     "text": [
      "Train size: 310 Test size: 154\n"
     ]
    }
   ],
   "source": [
    "selected_features=[\"RHIRGA42.mean\",\n",
    "                   \"RGlob.mean\",\n",
    "                   \"O3504.mean\",\n",
    "                   \"T84.std\",\n",
    "                   \"SWS.mean\",\n",
    "                   \"PTG.mean\",\n",
    "                   \"CO2504.std\",\n",
    "                   \"NOx504.std\",\n",
    "                   \"CS.mean\",\n",
    "                   \"NO672.std\"]\n",
    "train, test = train_test_split(npf[[\"class2\"]+selected_features],test_size=0.33, random_state=42)\n",
    "print(\"Train size:\", len(train),\"Test size:\", len(test))"
   ]
  },
  {
   "cell_type": "code",
   "execution_count": 20,
   "id": "b327b8b9",
   "metadata": {},
   "outputs": [],
   "source": [
    "X = train[selected_features]\n",
    "#X = train.filter(regex=\".mean\")\n",
    "y = train[\"class2\"]\n",
    "X_test = test[selected_features]\n",
    "y_test = test[\"class2\"]"
   ]
  },
  {
   "cell_type": "markdown",
   "id": "b86703e7",
   "metadata": {},
   "source": [
    "## Benchmarking\n",
    "At this point several different classifiers were tested inorder to get an idea of their relative performance."
   ]
  },
  {
   "cell_type": "code",
   "execution_count": 21,
   "id": "41ed42b0",
   "metadata": {},
   "outputs": [],
   "source": [
    "Classifier_Names = [\"dummyRegressor\",\n",
    "                    \"logisticRegressor\",\n",
    "                    \"GaussianNaiveBays\",\n",
    "                    \"SVC\",\n",
    "                    \"SVC-sigmoid\",\n",
    "                    \"SVC-poly\",\n",
    "                    \"RandomForest\",\n",
    "                    \"AdaBoost\",\n",
    "                    \"NearestNeighbour\",\n",
    "                    \"GaussianProcess\",\n",
    "                    \"QDA\",\n",
    "                    \"DecisionTree\"]\n",
    "\n",
    "\n",
    "classifiers = [DummyClassifier(strategy=\"prior\"),\n",
    "          LogisticRegression(penalty=\"l1\",solver=\"liblinear\"),\n",
    "          GaussianNB(),\n",
    "          SVC(probability=True),\n",
    "          SVC(kernel=\"sigmoid\",probability=True),\n",
    "          SVC(kernel=\"poly\",probability=True),\n",
    "          RandomForestClassifier(),\n",
    "          AdaBoostClassifier(),\n",
    "          KNeighborsClassifier(3),\n",
    "          GaussianProcessClassifier(1.0 * RBF(1.0)),\n",
    "          QuadraticDiscriminantAnalysis(),\n",
    "          DecisionTreeClassifier(max_depth=5)\n",
    "          ]\n",
    "models = [Pipeline([(\"feature_selection\",SelectKBest(f_classif, k = 8)),(\"classifier\",c)]) for c in classifiers]\n",
    "res = pd.DataFrame(index=Classifier_Names)"
   ]
  },
  {
   "cell_type": "code",
   "execution_count": 22,
   "id": "7b93301f",
   "metadata": {},
   "outputs": [],
   "source": [
    "perplexity = lambda p: np.exp(-np.mean(np.log((test[\"class2\"]!=\"nonevent\").astype(int)*p + (1 - (test[\"class2\"]!=\"nonevent\").astype(int)) * (1 - p))))"
   ]
  },
  {
   "cell_type": "code",
   "execution_count": 23,
   "id": "dd20438e",
   "metadata": {},
   "outputs": [],
   "source": [
    "res[\"train\"] = [m.fit(X,y).score(X,y) for m in models]\n",
    "res[\"cv\"] = [cross_val_score(m, X, y, cv=10).mean() for m in models]\n",
    "res[\"test\"] = [m.fit(X,y).score(X_test,y_test) for m in models]\n",
    "#res[\"perplexity\"] = [perplexity(m.fit(X,y).predict_proba(X_test)[:,1]) for m in models]"
   ]
  },
  {
   "cell_type": "code",
   "execution_count": 24,
   "id": "ed882c49",
   "metadata": {},
   "outputs": [
    {
     "data": {
      "text/html": [
       "<div>\n",
       "<style scoped>\n",
       "    .dataframe tbody tr th:only-of-type {\n",
       "        vertical-align: middle;\n",
       "    }\n",
       "\n",
       "    .dataframe tbody tr th {\n",
       "        vertical-align: top;\n",
       "    }\n",
       "\n",
       "    .dataframe thead th {\n",
       "        text-align: right;\n",
       "    }\n",
       "</style>\n",
       "<table border=\"1\" class=\"dataframe\">\n",
       "  <thead>\n",
       "    <tr style=\"text-align: right;\">\n",
       "      <th></th>\n",
       "      <th>train</th>\n",
       "      <th>cv</th>\n",
       "      <th>test</th>\n",
       "    </tr>\n",
       "  </thead>\n",
       "  <tbody>\n",
       "    <tr>\n",
       "      <th>dummyRegressor</th>\n",
       "      <td>0.477419</td>\n",
       "      <td>0.477419</td>\n",
       "      <td>0.545455</td>\n",
       "    </tr>\n",
       "    <tr>\n",
       "      <th>logisticRegressor</th>\n",
       "      <td>0.574194</td>\n",
       "      <td>0.558065</td>\n",
       "      <td>0.603896</td>\n",
       "    </tr>\n",
       "    <tr>\n",
       "      <th>GaussianNaiveBays</th>\n",
       "      <td>0.590323</td>\n",
       "      <td>0.551613</td>\n",
       "      <td>0.564935</td>\n",
       "    </tr>\n",
       "    <tr>\n",
       "      <th>SVC</th>\n",
       "      <td>0.477419</td>\n",
       "      <td>0.477419</td>\n",
       "      <td>0.545455</td>\n",
       "    </tr>\n",
       "    <tr>\n",
       "      <th>SVC-sigmoid</th>\n",
       "      <td>0.477419</td>\n",
       "      <td>0.477419</td>\n",
       "      <td>0.545455</td>\n",
       "    </tr>\n",
       "    <tr>\n",
       "      <th>SVC-poly</th>\n",
       "      <td>0.477419</td>\n",
       "      <td>0.477419</td>\n",
       "      <td>0.545455</td>\n",
       "    </tr>\n",
       "    <tr>\n",
       "      <th>RandomForest</th>\n",
       "      <td>1.000000</td>\n",
       "      <td>0.638710</td>\n",
       "      <td>0.675325</td>\n",
       "    </tr>\n",
       "    <tr>\n",
       "      <th>AdaBoost</th>\n",
       "      <td>0.641935</td>\n",
       "      <td>0.577419</td>\n",
       "      <td>0.623377</td>\n",
       "    </tr>\n",
       "    <tr>\n",
       "      <th>NearestNeighbour</th>\n",
       "      <td>0.729032</td>\n",
       "      <td>0.554839</td>\n",
       "      <td>0.564935</td>\n",
       "    </tr>\n",
       "    <tr>\n",
       "      <th>GaussianProcess</th>\n",
       "      <td>0.609677</td>\n",
       "      <td>0.593548</td>\n",
       "      <td>0.610390</td>\n",
       "    </tr>\n",
       "    <tr>\n",
       "      <th>QDA</th>\n",
       "      <td>0.603226</td>\n",
       "      <td>0.541935</td>\n",
       "      <td>0.577922</td>\n",
       "    </tr>\n",
       "    <tr>\n",
       "      <th>DecisionTree</th>\n",
       "      <td>0.783871</td>\n",
       "      <td>0.551613</td>\n",
       "      <td>0.668831</td>\n",
       "    </tr>\n",
       "  </tbody>\n",
       "</table>\n",
       "</div>"
      ],
      "text/plain": [
       "                      train        cv      test\n",
       "dummyRegressor     0.477419  0.477419  0.545455\n",
       "logisticRegressor  0.574194  0.558065  0.603896\n",
       "GaussianNaiveBays  0.590323  0.551613  0.564935\n",
       "SVC                0.477419  0.477419  0.545455\n",
       "SVC-sigmoid        0.477419  0.477419  0.545455\n",
       "SVC-poly           0.477419  0.477419  0.545455\n",
       "RandomForest       1.000000  0.638710  0.675325\n",
       "AdaBoost           0.641935  0.577419  0.623377\n",
       "NearestNeighbour   0.729032  0.554839  0.564935\n",
       "GaussianProcess    0.609677  0.593548  0.610390\n",
       "QDA                0.603226  0.541935  0.577922\n",
       "DecisionTree       0.783871  0.551613  0.668831"
      ]
     },
     "execution_count": 24,
     "metadata": {},
     "output_type": "execute_result"
    }
   ],
   "source": [
    "res"
   ]
  },
  {
   "cell_type": "markdown",
   "id": "3c21f536",
   "metadata": {},
   "source": [
    "## Choise of model\n",
    "At this point we chose the logistic regression as the model for the production version of the classifier as it performed well and is a model that has good explainability. "
   ]
  },
  {
   "cell_type": "code",
   "execution_count": 25,
   "id": "b0d67b3b",
   "metadata": {},
   "outputs": [
    {
     "data": {
      "text/plain": [
       "Pipeline(steps=[('feature_selection', SelectKBest()),\n",
       "                ('classifier',\n",
       "                 LogisticRegression(penalty='l1', solver='liblinear'))])"
      ]
     },
     "execution_count": 25,
     "metadata": {},
     "output_type": "execute_result"
    }
   ],
   "source": [
    "clf = Pipeline([\n",
    "    (\"feature_selection\",SelectKBest(f_classif, k = 10)),\n",
    "    (\"classifier\",LogisticRegression(penalty=\"l1\",solver=\"liblinear\"))])\n",
    "\n",
    "clf.fit(X,y)"
   ]
  },
  {
   "cell_type": "code",
   "execution_count": 12,
   "id": "90b73bcf",
   "metadata": {},
   "outputs": [
    {
     "data": {
      "text/html": [
       "<div>\n",
       "<style scoped>\n",
       "    .dataframe tbody tr th:only-of-type {\n",
       "        vertical-align: middle;\n",
       "    }\n",
       "\n",
       "    .dataframe tbody tr th {\n",
       "        vertical-align: top;\n",
       "    }\n",
       "\n",
       "    .dataframe thead th {\n",
       "        text-align: right;\n",
       "    }\n",
       "</style>\n",
       "<table border=\"1\" class=\"dataframe\">\n",
       "  <thead>\n",
       "    <tr style=\"text-align: right;\">\n",
       "      <th></th>\n",
       "      <th>train</th>\n",
       "      <th>test</th>\n",
       "      <th>perplexity</th>\n",
       "    </tr>\n",
       "  </thead>\n",
       "  <tbody>\n",
       "    <tr>\n",
       "      <th>logistic regression</th>\n",
       "      <td>0.793548</td>\n",
       "      <td>0.805195</td>\n",
       "      <td>5.810911</td>\n",
       "    </tr>\n",
       "  </tbody>\n",
       "</table>\n",
       "</div>"
      ],
      "text/plain": [
       "                        train      test  perplexity\n",
       "logistic regression  0.793548  0.805195    5.810911"
      ]
     },
     "execution_count": 12,
     "metadata": {},
     "output_type": "execute_result"
    }
   ],
   "source": [
    "stats = pd.DataFrame(index=[\"logistic regression\"], columns=[\"train\",\"test\",\"perplexity\"])\n",
    "\n",
    "stats[\"train\"]      = clf.score(X,y)\n",
    "stats[\"test\"]       = clf.score(X_test,y_test)\n",
    "stats[\"perplexity\"] = perplexity(clf.predict_proba(X_test)[:,1])\n",
    "stats"
   ]
  },
  {
   "cell_type": "markdown",
   "id": "8af589fd",
   "metadata": {},
   "source": [
    "## Production version and prediction of hidden test data "
   ]
  },
  {
   "cell_type": "code",
   "execution_count": 13,
   "id": "ed0b1a7b",
   "metadata": {},
   "outputs": [
    {
     "name": "stdout",
     "output_type": "stream",
     "text": [
      "Training score: 0.7931034482758621\n"
     ]
    }
   ],
   "source": [
    "X_prod = npf[selected_features]\n",
    "y_prod = npf[\"class2\"]\n",
    "clf.fit(X_prod,y_prod)\n",
    "print(\"Training score:\",clf.score(X_prod,y_prod))"
   ]
  },
  {
   "cell_type": "code",
   "execution_count": 14,
   "id": "79f3f691",
   "metadata": {},
   "outputs": [],
   "source": [
    "hidden_test[\"class2\"] = clf.predict(hidden_test[selected_features])\n",
    "hidden_test.to_csv(\"answers.csv\")"
   ]
  },
  {
   "cell_type": "markdown",
   "id": "64dce1a5",
   "metadata": {},
   "source": [
    "## Multi-class classifier"
   ]
  },
  {
   "cell_type": "code",
   "execution_count": 16,
   "id": "d9024fa4",
   "metadata": {},
   "outputs": [],
   "source": [
    "train, test = train_test_split(npf[[\"class4\"]+selected_features],test_size=0.33, random_state=42)\n",
    "X = train[selected_features]\n",
    "#X = train.filter(regex=\".mean\")\n",
    "y = train[\"class4\"]\n",
    "X_test = test[selected_features]\n",
    "y_test = test[\"class4\"]"
   ]
  },
  {
   "cell_type": "code",
   "execution_count": 26,
   "id": "2bb47377",
   "metadata": {},
   "outputs": [
    {
     "data": {
      "text/plain": [
       "Pipeline(steps=[('feature_selection', SelectKBest()),\n",
       "                ('classifier',\n",
       "                 LogisticRegression(penalty='l1', solver='liblinear'))])"
      ]
     },
     "execution_count": 26,
     "metadata": {},
     "output_type": "execute_result"
    }
   ],
   "source": [
    "clf.fit(X,y)"
   ]
  },
  {
   "cell_type": "code",
   "execution_count": 27,
   "id": "62f05625",
   "metadata": {},
   "outputs": [
    {
     "data": {
      "text/html": [
       "<div>\n",
       "<style scoped>\n",
       "    .dataframe tbody tr th:only-of-type {\n",
       "        vertical-align: middle;\n",
       "    }\n",
       "\n",
       "    .dataframe tbody tr th {\n",
       "        vertical-align: top;\n",
       "    }\n",
       "\n",
       "    .dataframe thead th {\n",
       "        text-align: right;\n",
       "    }\n",
       "</style>\n",
       "<table border=\"1\" class=\"dataframe\">\n",
       "  <thead>\n",
       "    <tr style=\"text-align: right;\">\n",
       "      <th></th>\n",
       "      <th>train</th>\n",
       "      <th>test</th>\n",
       "    </tr>\n",
       "  </thead>\n",
       "  <tbody>\n",
       "    <tr>\n",
       "      <th>logistic regression</th>\n",
       "      <td>0.619355</td>\n",
       "      <td>0.655844</td>\n",
       "    </tr>\n",
       "  </tbody>\n",
       "</table>\n",
       "</div>"
      ],
      "text/plain": [
       "                        train      test\n",
       "logistic regression  0.619355  0.655844"
      ]
     },
     "execution_count": 27,
     "metadata": {},
     "output_type": "execute_result"
    }
   ],
   "source": [
    "stats = pd.DataFrame(index=[\"logistic regression\"], columns=[\"train\",\"test\"])\n",
    "stats[\"train\"]      = clf.score(X,y)\n",
    "stats[\"test\"]       = clf.score(X_test,y_test)\n",
    "stats"
   ]
  },
  {
   "cell_type": "code",
   "execution_count": 28,
   "id": "e8e3abf5",
   "metadata": {},
   "outputs": [
    {
     "data": {
      "text/plain": [
       "array(['nonevent', 'Ib', 'nonevent', 'nonevent', 'nonevent', 'nonevent',\n",
       "       'nonevent', 'nonevent', 'II', 'nonevent', 'nonevent', 'nonevent',\n",
       "       'nonevent', 'II', 'nonevent', 'II', 'nonevent', 'nonevent',\n",
       "       'nonevent', 'nonevent', 'Ib', 'nonevent', 'nonevent', 'nonevent',\n",
       "       'II', 'nonevent', 'nonevent', 'II', 'II', 'II', 'Ib', 'II',\n",
       "       'nonevent', 'II', 'Ib', 'nonevent', 'nonevent', 'nonevent',\n",
       "       'nonevent', 'II', 'nonevent', 'II', 'nonevent', 'II', 'nonevent',\n",
       "       'nonevent', 'nonevent', 'nonevent', 'nonevent', 'II', 'nonevent',\n",
       "       'nonevent', 'nonevent', 'Ib', 'nonevent', 'II', 'nonevent', 'Ib',\n",
       "       'II', 'nonevent', 'nonevent', 'nonevent', 'Ib', 'II', 'II',\n",
       "       'nonevent', 'II', 'nonevent', 'nonevent', 'nonevent', 'nonevent',\n",
       "       'nonevent', 'II', 'nonevent', 'Ib', 'Ib', 'nonevent', 'nonevent',\n",
       "       'Ib', 'nonevent', 'II', 'nonevent', 'nonevent', 'nonevent', 'II',\n",
       "       'nonevent', 'nonevent', 'nonevent', 'nonevent', 'II', 'nonevent',\n",
       "       'Ib', 'II', 'nonevent', 'nonevent', 'nonevent', 'nonevent', 'II',\n",
       "       'Ib', 'nonevent', 'nonevent', 'nonevent', 'nonevent', 'nonevent',\n",
       "       'II', 'nonevent', 'nonevent', 'II', 'nonevent', 'nonevent',\n",
       "       'nonevent', 'nonevent', 'nonevent', 'nonevent', 'nonevent',\n",
       "       'nonevent', 'II', 'nonevent', 'nonevent', 'nonevent', 'II', 'Ib',\n",
       "       'nonevent', 'nonevent', 'nonevent', 'II', 'nonevent', 'nonevent',\n",
       "       'nonevent', 'nonevent', 'nonevent', 'nonevent', 'II', 'nonevent',\n",
       "       'nonevent', 'nonevent', 'Ib', 'nonevent', 'nonevent', 'II',\n",
       "       'nonevent', 'II', 'nonevent', 'nonevent', 'nonevent', 'nonevent',\n",
       "       'nonevent', 'Ib', 'nonevent', 'nonevent', 'nonevent', 'nonevent',\n",
       "       'nonevent', 'II', 'II', 'nonevent', 'nonevent', 'nonevent', 'Ib',\n",
       "       'Ib', 'Ib', 'nonevent', 'nonevent', 'II', 'Ib', 'nonevent',\n",
       "       'nonevent', 'II', 'nonevent', 'II', 'nonevent', 'Ib', 'nonevent',\n",
       "       'nonevent', 'nonevent', 'nonevent', 'II', 'nonevent', 'nonevent',\n",
       "       'nonevent', 'nonevent', 'nonevent', 'nonevent', 'nonevent',\n",
       "       'nonevent', 'nonevent', 'II', 'nonevent', 'nonevent', 'nonevent',\n",
       "       'nonevent', 'nonevent', 'II', 'nonevent', 'Ib', 'nonevent',\n",
       "       'nonevent', 'nonevent', 'II', 'II', 'nonevent', 'nonevent', 'II',\n",
       "       'II', 'nonevent', 'II', 'II', 'nonevent', 'II', 'nonevent',\n",
       "       'nonevent', 'nonevent', 'nonevent', 'nonevent', 'nonevent',\n",
       "       'nonevent', 'nonevent', 'II', 'Ib', 'nonevent', 'nonevent', 'II',\n",
       "       'nonevent', 'nonevent', 'nonevent', 'nonevent', 'nonevent', 'Ib',\n",
       "       'II', 'nonevent', 'nonevent', 'nonevent', 'Ib', 'nonevent',\n",
       "       'nonevent', 'nonevent', 'nonevent', 'Ib', 'nonevent', 'nonevent',\n",
       "       'nonevent', 'nonevent', 'nonevent', 'nonevent', 'nonevent',\n",
       "       'nonevent', 'nonevent', 'II', 'nonevent', 'Ib', 'nonevent',\n",
       "       'nonevent', 'nonevent', 'nonevent', 'II', 'nonevent', 'II',\n",
       "       'nonevent', 'nonevent', 'nonevent', 'Ib', 'nonevent', 'II', 'Ib',\n",
       "       'nonevent', 'nonevent', 'II', 'II', 'nonevent', 'Ib', 'II', 'II',\n",
       "       'nonevent', 'Ib', 'nonevent', 'nonevent', 'nonevent', 'II',\n",
       "       'nonevent', 'nonevent', 'II', 'nonevent', 'nonevent', 'nonevent',\n",
       "       'nonevent', 'II', 'II', 'nonevent', 'nonevent', 'II', 'II',\n",
       "       'nonevent', 'nonevent', 'nonevent', 'II', 'II', 'nonevent',\n",
       "       'nonevent', 'nonevent', 'nonevent', 'II', 'nonevent', 'nonevent',\n",
       "       'II', 'Ib', 'nonevent', 'nonevent', 'Ib', 'II', 'Ib', 'nonevent',\n",
       "       'II', 'II', 'II', 'nonevent', 'nonevent', 'nonevent', 'nonevent',\n",
       "       'nonevent', 'II', 'Ib', 'nonevent', 'nonevent', 'II', 'nonevent',\n",
       "       'nonevent', 'II', 'nonevent', 'Ib', 'II', 'nonevent', 'II', 'Ib',\n",
       "       'II', 'II', 'nonevent', 'nonevent', 'nonevent', 'II', 'nonevent',\n",
       "       'Ib', 'II', 'II', 'nonevent', 'nonevent', 'nonevent', 'nonevent',\n",
       "       'Ib', 'Ib', 'nonevent', 'II', 'nonevent', 'nonevent', 'nonevent',\n",
       "       'nonevent', 'nonevent', 'nonevent', 'nonevent', 'Ib', 'II',\n",
       "       'nonevent', 'nonevent', 'nonevent', 'Ib', 'nonevent', 'II', 'Ib',\n",
       "       'II', 'nonevent', 'Ib', 'II', 'nonevent', 'II', 'nonevent', 'Ib',\n",
       "       'II', 'nonevent', 'II', 'nonevent', 'nonevent', 'II', 'Ib', 'II',\n",
       "       'II', 'nonevent', 'II', 'nonevent', 'II', 'Ib', 'nonevent', 'Ib',\n",
       "       'nonevent', 'nonevent', 'II', 'nonevent', 'II', 'nonevent',\n",
       "       'nonevent', 'II', 'nonevent', 'nonevent', 'II', 'nonevent', 'II',\n",
       "       'nonevent', 'nonevent', 'nonevent', 'nonevent', 'II', 'II',\n",
       "       'nonevent', 'II', 'II', 'nonevent', 'Ib', 'nonevent', 'nonevent',\n",
       "       'nonevent', 'Ib', 'nonevent', 'II', 'nonevent', 'II', 'nonevent',\n",
       "       'nonevent', 'II', 'nonevent', 'nonevent', 'nonevent', 'nonevent',\n",
       "       'nonevent', 'nonevent', 'II', 'nonevent', 'nonevent', 'nonevent',\n",
       "       'nonevent', 'nonevent', 'nonevent', 'nonevent', 'nonevent', 'Ib',\n",
       "       'II', 'nonevent', 'II', 'nonevent', 'nonevent', 'nonevent',\n",
       "       'nonevent', 'II', 'II', 'nonevent', 'nonevent', 'nonevent',\n",
       "       'nonevent', 'nonevent', 'nonevent', 'nonevent', 'Ib', 'nonevent',\n",
       "       'Ib', 'II', 'nonevent', 'nonevent', 'nonevent', 'nonevent',\n",
       "       'nonevent', 'nonevent', 'nonevent', 'nonevent', 'II', 'II',\n",
       "       'nonevent', 'Ib', 'II', 'nonevent', 'II', 'nonevent', 'nonevent',\n",
       "       'Ib', 'nonevent', 'II', 'nonevent', 'nonevent', 'nonevent',\n",
       "       'nonevent', 'II', 'II', 'II', 'nonevent', 'nonevent', 'nonevent',\n",
       "       'nonevent', 'II', 'II', 'II', 'Ib', 'II', 'II', 'nonevent',\n",
       "       'nonevent', 'nonevent', 'nonevent', 'II', 'Ib', 'II', 'nonevent',\n",
       "       'nonevent', 'nonevent', 'nonevent', 'nonevent', 'nonevent', 'II',\n",
       "       'nonevent', 'nonevent', 'nonevent', 'nonevent', 'II', 'nonevent',\n",
       "       'nonevent', 'II', 'nonevent', 'Ib', 'nonevent', 'nonevent',\n",
       "       'nonevent', 'nonevent', 'Ib', 'nonevent', 'Ib', 'nonevent',\n",
       "       'nonevent', 'Ib', 'nonevent', 'nonevent', 'nonevent', 'nonevent',\n",
       "       'nonevent', 'Ib', 'Ib', 'II', 'nonevent', 'nonevent', 'II', 'II',\n",
       "       'nonevent', 'II', 'nonevent', 'nonevent', 'nonevent', 'Ib',\n",
       "       'nonevent', 'nonevent', 'nonevent', 'II', 'nonevent', 'II', 'Ib',\n",
       "       'nonevent', 'nonevent', 'nonevent', 'II', 'II', 'nonevent',\n",
       "       'nonevent', 'nonevent', 'nonevent', 'nonevent', 'nonevent', 'II',\n",
       "       'nonevent', 'nonevent', 'nonevent', 'II', 'II', 'Ib', 'II',\n",
       "       'nonevent', 'II', 'II', 'Ib', 'nonevent', 'nonevent', 'nonevent',\n",
       "       'nonevent', 'Ib', 'Ib', 'nonevent', 'nonevent', 'nonevent',\n",
       "       'nonevent', 'nonevent', 'II', 'nonevent', 'II', 'II', 'nonevent',\n",
       "       'nonevent', 'Ib', 'II', 'II', 'nonevent', 'Ib', 'nonevent',\n",
       "       'nonevent', 'II', 'nonevent', 'nonevent', 'nonevent', 'nonevent',\n",
       "       'nonevent', 'nonevent', 'II', 'nonevent', 'nonevent', 'nonevent',\n",
       "       'nonevent', 'nonevent', 'nonevent', 'nonevent', 'nonevent',\n",
       "       'nonevent', 'nonevent', 'nonevent', 'II', 'II', 'nonevent',\n",
       "       'nonevent', 'nonevent', 'nonevent', 'II', 'nonevent', 'nonevent',\n",
       "       'Ib', 'nonevent', 'Ib', 'nonevent', 'nonevent', 'nonevent', 'II',\n",
       "       'nonevent', 'II', 'II', 'nonevent', 'nonevent', 'nonevent', 'II',\n",
       "       'nonevent', 'II', 'nonevent', 'II', 'II', 'II', 'II', 'II',\n",
       "       'nonevent', 'nonevent', 'nonevent', 'nonevent', 'nonevent',\n",
       "       'nonevent', 'nonevent', 'nonevent', 'nonevent', 'nonevent', 'Ib',\n",
       "       'nonevent', 'II', 'nonevent', 'nonevent', 'nonevent', 'nonevent',\n",
       "       'II', 'nonevent', 'Ib', 'nonevent', 'nonevent', 'II', 'nonevent',\n",
       "       'nonevent', 'nonevent', 'Ib', 'nonevent', 'nonevent', 'nonevent',\n",
       "       'II', 'Ib', 'nonevent', 'nonevent', 'II', 'II', 'nonevent', 'II',\n",
       "       'nonevent', 'nonevent', 'Ib', 'II', 'nonevent', 'nonevent',\n",
       "       'nonevent', 'nonevent', 'nonevent', 'nonevent', 'II', 'nonevent',\n",
       "       'nonevent', 'nonevent', 'nonevent', 'nonevent', 'nonevent',\n",
       "       'nonevent', 'Ib', 'nonevent', 'nonevent', 'nonevent', 'II', 'II',\n",
       "       'nonevent', 'nonevent', 'nonevent', 'nonevent', 'II', 'nonevent',\n",
       "       'nonevent', 'Ib', 'nonevent', 'nonevent', 'nonevent', 'Ib',\n",
       "       'nonevent', 'nonevent', 'II', 'nonevent', 'II', 'Ib', 'II', 'II',\n",
       "       'nonevent', 'nonevent', 'II', 'nonevent', 'nonevent', 'II', 'II',\n",
       "       'Ib', 'nonevent', 'II', 'II', 'nonevent', 'nonevent', 'nonevent',\n",
       "       'nonevent', 'II', 'Ib', 'nonevent', 'Ib', 'II', 'II', 'nonevent',\n",
       "       'nonevent', 'nonevent', 'Ib', 'nonevent', 'II', 'nonevent', 'II',\n",
       "       'II', 'Ib', 'nonevent', 'Ib', 'nonevent', 'nonevent', 'nonevent',\n",
       "       'II', 'II', 'Ib', 'nonevent', 'nonevent', 'nonevent', 'nonevent',\n",
       "       'nonevent', 'II', 'nonevent', 'nonevent', 'nonevent', 'II',\n",
       "       'nonevent', 'II', 'nonevent', 'Ib', 'II', 'II', 'II', 'nonevent',\n",
       "       'Ib', 'Ib', 'nonevent', 'II', 'II', 'Ib', 'nonevent', 'nonevent',\n",
       "       'nonevent', 'nonevent', 'nonevent', 'II', 'nonevent', 'nonevent',\n",
       "       'nonevent', 'II', 'nonevent', 'II', 'Ib', 'Ib', 'nonevent',\n",
       "       'nonevent', 'nonevent', 'II', 'nonevent', 'nonevent', 'II',\n",
       "       'nonevent', 'nonevent', 'nonevent', 'nonevent', 'II', 'Ib',\n",
       "       'nonevent', 'nonevent', 'nonevent', 'nonevent', 'nonevent', 'II',\n",
       "       'nonevent', 'nonevent', 'II', 'nonevent', 'nonevent', 'nonevent',\n",
       "       'II', 'II', 'II', 'II', 'II', 'nonevent', 'nonevent', 'II', 'Ib',\n",
       "       'II', 'nonevent', 'nonevent', 'II', 'nonevent', 'nonevent',\n",
       "       'nonevent', 'Ib', 'nonevent', 'nonevent', 'nonevent', 'nonevent',\n",
       "       'nonevent', 'nonevent', 'nonevent', 'nonevent', 'nonevent',\n",
       "       'nonevent', 'nonevent', 'nonevent', 'nonevent', 'II', 'nonevent',\n",
       "       'II', 'II', 'II', 'II', 'nonevent', 'nonevent', 'II', 'nonevent',\n",
       "       'nonevent', 'nonevent', 'II', 'nonevent', 'nonevent', 'nonevent',\n",
       "       'nonevent', 'nonevent', 'nonevent', 'II', 'nonevent', 'II',\n",
       "       'nonevent', 'nonevent', 'II', 'nonevent', 'nonevent', 'nonevent',\n",
       "       'nonevent', 'Ib', 'nonevent', 'nonevent', 'nonevent', 'nonevent',\n",
       "       'nonevent', 'nonevent', 'nonevent', 'nonevent', 'nonevent',\n",
       "       'nonevent', 'nonevent', 'II', 'nonevent', 'nonevent', 'nonevent',\n",
       "       'Ib', 'II', 'II', 'II', 'nonevent', 'nonevent', 'nonevent', 'II',\n",
       "       'nonevent', 'nonevent', 'nonevent', 'nonevent', 'II', 'II',\n",
       "       'nonevent', 'nonevent', 'nonevent', 'nonevent', 'II', 'Ib',\n",
       "       'nonevent', 'II', 'nonevent', 'nonevent', 'nonevent', 'Ib', 'Ib',\n",
       "       'nonevent', 'nonevent', 'nonevent', 'II', 'nonevent', 'nonevent',\n",
       "       'nonevent', 'nonevent', 'nonevent', 'nonevent', 'II', 'nonevent',\n",
       "       'nonevent', 'nonevent', 'nonevent', 'II', 'nonevent', 'nonevent',\n",
       "       'nonevent', 'II', 'nonevent', 'II', 'nonevent', 'II'], dtype=object)"
      ]
     },
     "execution_count": 28,
     "metadata": {},
     "output_type": "execute_result"
    }
   ],
   "source": [
    "clf.predict(hidden_test[selected_features])"
   ]
  },
  {
   "cell_type": "code",
   "execution_count": null,
   "id": "1eecf0bc",
   "metadata": {},
   "outputs": [],
   "source": []
  }
 ],
 "metadata": {
  "kernelspec": {
   "display_name": "Python 3 (ipykernel)",
   "language": "python",
   "name": "python3"
  },
  "language_info": {
   "codemirror_mode": {
    "name": "ipython",
    "version": 3
   },
   "file_extension": ".py",
   "mimetype": "text/x-python",
   "name": "python",
   "nbconvert_exporter": "python",
   "pygments_lexer": "ipython3",
   "version": "3.10.6"
  }
 },
 "nbformat": 4,
 "nbformat_minor": 5
}
