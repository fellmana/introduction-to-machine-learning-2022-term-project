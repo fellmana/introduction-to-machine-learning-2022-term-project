{
 "cells": [
  {
   "cell_type": "markdown",
   "id": "9e24ea7a",
   "metadata": {},
   "source": [
    "# Introduction to machine learning 2022 term project"
   ]
  },
  {
   "cell_type": "code",
   "execution_count": 1,
   "id": "5fd572df",
   "metadata": {},
   "outputs": [],
   "source": [
    "# imports\n",
    "import pandas as pd\n",
    "import numpy as np\n",
    "import itertools\n",
    "from sklearn.model_selection import cross_validate,cross_val_score, train_test_split\n",
    "from sklearn.dummy import DummyClassifier\n",
    "from sklearn.neighbors import KNeighborsClassifier\n",
    "from sklearn.linear_model import LogisticRegression,BayesianRidge\n",
    "from sklearn.naive_bayes import GaussianNB\n",
    "from sklearn.pipeline import make_pipeline\n",
    "from sklearn.tree import DecisionTreeClassifier\n",
    "from sklearn.gaussian_process import GaussianProcessClassifier\n",
    "from sklearn.gaussian_process.kernels import RBF\n",
    "from sklearn.discriminant_analysis import QuadraticDiscriminantAnalysis\n",
    "from sklearn.svm import SVC\n",
    "from sklearn.ensemble import RandomForestClassifier,AdaBoostClassifier"
   ]
  },
  {
   "cell_type": "code",
   "execution_count": 2,
   "id": "0160b65d",
   "metadata": {},
   "outputs": [],
   "source": [
    "npf = pd.read_csv(\"npf_train.csv\")\n",
    "test = pd.read_csv(\"npf_test_hidden.csv\")"
   ]
  },
  {
   "cell_type": "markdown",
   "id": "a91442c3",
   "metadata": {},
   "source": [
    "### Data preprocessing\n",
    "\n",
    "Column \"class2\" added that is \"event\" if \"class4\" is Ib, Ia or II, otherwise labeled as \"nonevent\". "
   ]
  },
  {
   "cell_type": "code",
   "execution_count": 3,
   "id": "998cedd6",
   "metadata": {},
   "outputs": [],
   "source": [
    "class2 = np.array([\"nonevent\", \"event\"])\n",
    "npf[\"class2\"] = class2[(npf[\"class4\"]!=\"nonevent\").astype(int)]\n"
   ]
  },
  {
   "cell_type": "code",
   "execution_count": 4,
   "id": "5bed699a",
   "metadata": {
    "scrolled": false
   },
   "outputs": [
    {
     "data": {
      "text/html": [
       "<div>\n",
       "<style scoped>\n",
       "    .dataframe tbody tr th:only-of-type {\n",
       "        vertical-align: middle;\n",
       "    }\n",
       "\n",
       "    .dataframe tbody tr th {\n",
       "        vertical-align: top;\n",
       "    }\n",
       "\n",
       "    .dataframe thead th {\n",
       "        text-align: right;\n",
       "    }\n",
       "</style>\n",
       "<table border=\"1\" class=\"dataframe\">\n",
       "  <thead>\n",
       "    <tr style=\"text-align: right;\">\n",
       "      <th></th>\n",
       "      <th>id</th>\n",
       "      <th>date</th>\n",
       "      <th>class4</th>\n",
       "      <th>partlybad</th>\n",
       "      <th>CO2168.mean</th>\n",
       "      <th>CO2168.std</th>\n",
       "      <th>CO2336.mean</th>\n",
       "      <th>CO2336.std</th>\n",
       "      <th>CO242.mean</th>\n",
       "      <th>CO242.std</th>\n",
       "      <th>...</th>\n",
       "      <th>T672.std</th>\n",
       "      <th>T84.mean</th>\n",
       "      <th>T84.std</th>\n",
       "      <th>UV_A.mean</th>\n",
       "      <th>UV_A.std</th>\n",
       "      <th>UV_B.mean</th>\n",
       "      <th>UV_B.std</th>\n",
       "      <th>CS.mean</th>\n",
       "      <th>CS.std</th>\n",
       "      <th>class2</th>\n",
       "    </tr>\n",
       "  </thead>\n",
       "  <tbody>\n",
       "    <tr>\n",
       "      <th>0</th>\n",
       "      <td>1</td>\n",
       "      <td>2000-01-17</td>\n",
       "      <td>Ib</td>\n",
       "      <td>False</td>\n",
       "      <td>368.771711</td>\n",
       "      <td>0.310309</td>\n",
       "      <td>368.665658</td>\n",
       "      <td>0.305127</td>\n",
       "      <td>369.371184</td>\n",
       "      <td>0.333606</td>\n",
       "      <td>...</td>\n",
       "      <td>0.250952</td>\n",
       "      <td>-0.899393</td>\n",
       "      <td>0.271648</td>\n",
       "      <td>2.492491</td>\n",
       "      <td>1.310880</td>\n",
       "      <td>0.031587</td>\n",
       "      <td>0.018122</td>\n",
       "      <td>0.000243</td>\n",
       "      <td>0.000035</td>\n",
       "      <td>event</td>\n",
       "    </tr>\n",
       "    <tr>\n",
       "      <th>1</th>\n",
       "      <td>2</td>\n",
       "      <td>2000-02-28</td>\n",
       "      <td>nonevent</td>\n",
       "      <td>False</td>\n",
       "      <td>378.197295</td>\n",
       "      <td>1.001493</td>\n",
       "      <td>378.083089</td>\n",
       "      <td>1.025472</td>\n",
       "      <td>378.671311</td>\n",
       "      <td>1.017208</td>\n",
       "      <td>...</td>\n",
       "      <td>0.313460</td>\n",
       "      <td>2.033191</td>\n",
       "      <td>0.271090</td>\n",
       "      <td>0.295937</td>\n",
       "      <td>0.177836</td>\n",
       "      <td>0.005140</td>\n",
       "      <td>0.003552</td>\n",
       "      <td>0.003658</td>\n",
       "      <td>0.000940</td>\n",
       "      <td>nonevent</td>\n",
       "    </tr>\n",
       "  </tbody>\n",
       "</table>\n",
       "<p>2 rows × 105 columns</p>\n",
       "</div>"
      ],
      "text/plain": [
       "   id        date    class4  partlybad  CO2168.mean  CO2168.std  CO2336.mean  \\\n",
       "0   1  2000-01-17        Ib      False   368.771711    0.310309   368.665658   \n",
       "1   2  2000-02-28  nonevent      False   378.197295    1.001493   378.083089   \n",
       "\n",
       "   CO2336.std  CO242.mean  CO242.std  ...  T672.std  T84.mean   T84.std  \\\n",
       "0    0.305127  369.371184   0.333606  ...  0.250952 -0.899393  0.271648   \n",
       "1    1.025472  378.671311   1.017208  ...  0.313460  2.033191  0.271090   \n",
       "\n",
       "   UV_A.mean  UV_A.std  UV_B.mean  UV_B.std   CS.mean    CS.std    class2  \n",
       "0   2.492491  1.310880   0.031587  0.018122  0.000243  0.000035     event  \n",
       "1   0.295937  0.177836   0.005140  0.003552  0.003658  0.000940  nonevent  \n",
       "\n",
       "[2 rows x 105 columns]"
      ]
     },
     "execution_count": 4,
     "metadata": {},
     "output_type": "execute_result"
    }
   ],
   "source": [
    "npf.head(n=2)"
   ]
  },
  {
   "cell_type": "code",
   "execution_count": 5,
   "id": "1adc3fa8",
   "metadata": {},
   "outputs": [],
   "source": [
    "labels = ['CO2168.mean','Glob.mean','H2O168.mean','NET.mean', 'NO168.mean',\n",
    "'NOx168.mean','O3168.mean','Pamb0.mean','PAR.mean', 'PTG.mean',\n",
    "'RGlob.mean', 'RHIRGA168.mean','RPAR.mean', 'SO2168.mean',\n",
    "'SWS.mean', 'T168.mean','UV_A.mean', 'UV_B.mean', 'CS.mean']"
   ]
  },
  {
   "cell_type": "code",
   "execution_count": 6,
   "id": "b327b8b9",
   "metadata": {},
   "outputs": [],
   "source": [
    "#X = npf[labels]\n",
    "X = npf.filter(regex=\".mean\")\n",
    "y = npf[\"class2\"]"
   ]
  },
  {
   "cell_type": "code",
   "execution_count": 7,
   "id": "41ed42b0",
   "metadata": {},
   "outputs": [],
   "source": [
    "Classifier_Names = [\"dummyRegressor\",\n",
    "                    \"logisticRegressor\",\n",
    "                    \"GaussianNaiveBays\",\n",
    "                    \"SVC\",\n",
    "                    \"SVC-sigmoid\",\n",
    "                    \"SVC-poly\",\n",
    "                    \"RandomForest\",\n",
    "                    \"AdaBoost\",\n",
    "                    \"NearestNeighbour\",\n",
    "                    \"GaussianProcess\",\n",
    "                    \"QDA\",\n",
    "                    \"DecisionTree\"]\n",
    "\n",
    "\n",
    "models = [DummyClassifier(),\n",
    "          LogisticRegression(solver=\"saga\"),\n",
    "          GaussianNB(),\n",
    "          SVC(),\n",
    "          SVC(kernel=\"sigmoid\"),\n",
    "          SVC(kernel=\"poly\"),\n",
    "          RandomForestClassifier(),\n",
    "          AdaBoostClassifier(),\n",
    "          KNeighborsClassifier(3),\n",
    "          GaussianProcessClassifier(1.0 * RBF(1.0)),\n",
    "          QuadraticDiscriminantAnalysis(),\n",
    "          DecisionTreeClassifier(max_depth=5)\n",
    "          ]\n",
    "res = pd.DataFrame(index=Classifier_Names)"
   ]
  },
  {
   "cell_type": "code",
   "execution_count": 8,
   "id": "dd20438e",
   "metadata": {},
   "outputs": [
    {
     "name": "stderr",
     "output_type": "stream",
     "text": [
      "/usr/lib/python3/dist-packages/sklearn/dummy.py:131: FutureWarning: The default value of strategy will change from stratified to prior in 0.24.\n",
      "  warnings.warn(\"The default value of strategy will change from \"\n",
      "/usr/lib/python3/dist-packages/sklearn/linear_model/_sag.py:329: ConvergenceWarning: The max_iter was reached which means the coef_ did not converge\n",
      "  warnings.warn(\"The max_iter was reached which means \"\n",
      "/usr/lib/python3/dist-packages/sklearn/linear_model/_sag.py:329: ConvergenceWarning: The max_iter was reached which means the coef_ did not converge\n",
      "  warnings.warn(\"The max_iter was reached which means \"\n",
      "/usr/lib/python3/dist-packages/sklearn/linear_model/_sag.py:329: ConvergenceWarning: The max_iter was reached which means the coef_ did not converge\n",
      "  warnings.warn(\"The max_iter was reached which means \"\n",
      "/usr/lib/python3/dist-packages/sklearn/linear_model/_sag.py:329: ConvergenceWarning: The max_iter was reached which means the coef_ did not converge\n",
      "  warnings.warn(\"The max_iter was reached which means \"\n",
      "/usr/lib/python3/dist-packages/sklearn/linear_model/_sag.py:329: ConvergenceWarning: The max_iter was reached which means the coef_ did not converge\n",
      "  warnings.warn(\"The max_iter was reached which means \"\n",
      "/usr/lib/python3/dist-packages/sklearn/linear_model/_sag.py:329: ConvergenceWarning: The max_iter was reached which means the coef_ did not converge\n",
      "  warnings.warn(\"The max_iter was reached which means \"\n",
      "/usr/lib/python3/dist-packages/sklearn/linear_model/_sag.py:329: ConvergenceWarning: The max_iter was reached which means the coef_ did not converge\n",
      "  warnings.warn(\"The max_iter was reached which means \"\n",
      "/usr/lib/python3/dist-packages/sklearn/linear_model/_sag.py:329: ConvergenceWarning: The max_iter was reached which means the coef_ did not converge\n",
      "  warnings.warn(\"The max_iter was reached which means \"\n",
      "/usr/lib/python3/dist-packages/sklearn/linear_model/_sag.py:329: ConvergenceWarning: The max_iter was reached which means the coef_ did not converge\n",
      "  warnings.warn(\"The max_iter was reached which means \"\n",
      "/usr/lib/python3/dist-packages/sklearn/linear_model/_sag.py:329: ConvergenceWarning: The max_iter was reached which means the coef_ did not converge\n",
      "  warnings.warn(\"The max_iter was reached which means \"\n"
     ]
    }
   ],
   "source": [
    "res[\"cv\"] = [cross_val_score(m, X, y, cv=10).mean()\n",
    "             for m in models]"
   ]
  },
  {
   "cell_type": "code",
   "execution_count": 9,
   "id": "ed882c49",
   "metadata": {},
   "outputs": [
    {
     "data": {
      "text/html": [
       "<div>\n",
       "<style scoped>\n",
       "    .dataframe tbody tr th:only-of-type {\n",
       "        vertical-align: middle;\n",
       "    }\n",
       "\n",
       "    .dataframe tbody tr th {\n",
       "        vertical-align: top;\n",
       "    }\n",
       "\n",
       "    .dataframe thead th {\n",
       "        text-align: right;\n",
       "    }\n",
       "</style>\n",
       "<table border=\"1\" class=\"dataframe\">\n",
       "  <thead>\n",
       "    <tr style=\"text-align: right;\">\n",
       "      <th></th>\n",
       "      <th>cv</th>\n",
       "    </tr>\n",
       "  </thead>\n",
       "  <tbody>\n",
       "    <tr>\n",
       "      <th>dummyRegressor</th>\n",
       "      <td>0.470074</td>\n",
       "    </tr>\n",
       "    <tr>\n",
       "      <th>logisticRegressor</th>\n",
       "      <td>0.842831</td>\n",
       "    </tr>\n",
       "    <tr>\n",
       "      <th>GaussianNaiveBays</th>\n",
       "      <td>0.806383</td>\n",
       "    </tr>\n",
       "    <tr>\n",
       "      <th>SVC</th>\n",
       "      <td>0.773913</td>\n",
       "    </tr>\n",
       "    <tr>\n",
       "      <th>SVC-sigmoid</th>\n",
       "      <td>0.763182</td>\n",
       "    </tr>\n",
       "    <tr>\n",
       "      <th>SVC-poly</th>\n",
       "      <td>0.780389</td>\n",
       "    </tr>\n",
       "    <tr>\n",
       "      <th>RandomForest</th>\n",
       "      <td>0.874931</td>\n",
       "    </tr>\n",
       "    <tr>\n",
       "      <th>AdaBoost</th>\n",
       "      <td>0.853700</td>\n",
       "    </tr>\n",
       "    <tr>\n",
       "      <th>NearestNeighbour</th>\n",
       "      <td>0.803978</td>\n",
       "    </tr>\n",
       "    <tr>\n",
       "      <th>GaussianProcess</th>\n",
       "      <td>0.623358</td>\n",
       "    </tr>\n",
       "    <tr>\n",
       "      <th>QDA</th>\n",
       "      <td>0.812766</td>\n",
       "    </tr>\n",
       "    <tr>\n",
       "      <th>DecisionTree</th>\n",
       "      <td>0.808326</td>\n",
       "    </tr>\n",
       "  </tbody>\n",
       "</table>\n",
       "</div>"
      ],
      "text/plain": [
       "                         cv\n",
       "dummyRegressor     0.470074\n",
       "logisticRegressor  0.842831\n",
       "GaussianNaiveBays  0.806383\n",
       "SVC                0.773913\n",
       "SVC-sigmoid        0.763182\n",
       "SVC-poly           0.780389\n",
       "RandomForest       0.874931\n",
       "AdaBoost           0.853700\n",
       "NearestNeighbour   0.803978\n",
       "GaussianProcess    0.623358\n",
       "QDA                0.812766\n",
       "DecisionTree       0.808326"
      ]
     },
     "execution_count": 9,
     "metadata": {},
     "output_type": "execute_result"
    }
   ],
   "source": [
    "res"
   ]
  },
  {
   "cell_type": "code",
   "execution_count": null,
   "id": "0e050c5f",
   "metadata": {},
   "outputs": [],
   "source": []
  },
  {
   "cell_type": "code",
   "execution_count": null,
   "id": "ebcad430",
   "metadata": {},
   "outputs": [],
   "source": []
  }
 ],
 "metadata": {
  "kernelspec": {
   "display_name": "Python 3 (ipykernel)",
   "language": "python",
   "name": "python3"
  },
  "language_info": {
   "codemirror_mode": {
    "name": "ipython",
    "version": 3
   },
   "file_extension": ".py",
   "mimetype": "text/x-python",
   "name": "python",
   "nbconvert_exporter": "python",
   "pygments_lexer": "ipython3",
   "version": "3.10.6"
  }
 },
 "nbformat": 4,
 "nbformat_minor": 5
}
