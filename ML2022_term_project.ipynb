{
 "cells": [
  {
   "cell_type": "markdown",
   "id": "b7d8ff97",
   "metadata": {},
   "source": [
    "# Introduction to machine learning 2022 term project"
   ]
  },
  {
   "cell_type": "code",
   "execution_count": 1,
   "id": "27e429f7",
   "metadata": {},
   "outputs": [],
   "source": [
    "import pandas as pd\n",
    "import itertools"
   ]
  },
  {
   "cell_type": "code",
   "execution_count": 3,
   "id": "0c7d9797",
   "metadata": {},
   "outputs": [],
   "source": [
    "npf = pd.read_csv(\"npf_train.csv\")\n",
    "test = pd.read_csv(\"npf_test_hidden.csv\")"
   ]
  },
  {
   "cell_type": "markdown",
   "id": "c7a7b599",
   "metadata": {},
   "source": [
    "### Data preprocessing\n",
    "\n",
    "Column \"class2\" added that is \"event\" if c"
   ]
  },
  {
   "cell_type": "code",
   "execution_count": null,
   "id": "7c5c911e",
   "metadata": {},
   "outputs": [],
   "source": [
    "npf[\"class2\"] = npf.apply(lambda row: \"event\" if (row.class4 == \"Ib\" or row.class4==\"Ia\" or row.class4==\"II\") else \"nonevenet\",axis=1)"
   ]
  }
 ],
 "metadata": {
  "kernelspec": {
   "display_name": "Python 3 (ipykernel)",
   "language": "python",
   "name": "python3"
  },
  "language_info": {
   "codemirror_mode": {
    "name": "ipython",
    "version": 3
   },
   "file_extension": ".py",
   "mimetype": "text/x-python",
   "name": "python",
   "nbconvert_exporter": "python",
   "pygments_lexer": "ipython3",
   "version": "3.10.6"
  }
 },
 "nbformat": 4,
 "nbformat_minor": 5
}
